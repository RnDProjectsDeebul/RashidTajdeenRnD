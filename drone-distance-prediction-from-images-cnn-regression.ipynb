{
 "cells": [
  {
   "cell_type": "code",
   "execution_count": 2,
   "metadata": {},
   "outputs": [
    {
     "name": "stderr",
     "output_type": "stream",
     "text": [
      "2022-08-03 13:12:01.375262: W tensorflow/stream_executor/platform/default/dso_loader.cc:64] Could not load dynamic library 'libcudart.so.11.0'; dlerror: libcudart.so.11.0: cannot open shared object file: No such file or directory\n",
      "2022-08-03 13:12:01.375281: I tensorflow/stream_executor/cuda/cudart_stub.cc:29] Ignore above cudart dlerror if you do not have a GPU set up on your machine.\n"
     ]
    }
   ],
   "source": [
    "import numpy as np\n",
    "import pandas as pd\n",
    "from pathlib import Path\n",
    "import os.path\n",
    "\n",
    "from sklearn.model_selection import train_test_split\n",
    "\n",
    "import tensorflow as tf\n",
    "\n",
    "from sklearn.metrics import r2_score\n",
    "\n",
    "from tensorflow.keras.optimizers import Adam"
   ]
  },
  {
   "cell_type": "code",
   "execution_count": 3,
   "metadata": {},
   "outputs": [],
   "source": [
    "image_dir = Path('output/drone_dataset_28072022011417/images')\n",
    "data_path_1 = Path('output/drone_dataset_28072022011417/data/drone.csv')\n",
    "data_path_2 = Path('output/drone_dataset_29072022105203/data/drone.csv')\n",
    "data_path_3 = Path('output/drone_dataset_29072022120237/data/drone.csv')"
   ]
  },
  {
   "cell_type": "markdown",
   "metadata": {},
   "source": [
    "# Create File DataFrame"
   ]
  },
  {
   "cell_type": "code",
   "execution_count": 4,
   "metadata": {},
   "outputs": [],
   "source": [
    "image_df_1 = pd.read_csv(data_path_1, usecols = [\"img_path\", \"dist\"]);\n",
    "image_df_2 = pd.read_csv(data_path_2, usecols = [\"img_path\", \"dist\"]);\n",
    "image_df_3 = pd.read_csv(data_path_3, usecols = [\"img_path\", \"dist\"]);\n",
    "image_df = pd.concat([image_df_1, image_df_2, image_df_3], axis=0)"
   ]
  },
  {
   "cell_type": "code",
   "execution_count": 8,
   "metadata": {},
   "outputs": [],
   "source": [
    "train_df, test_df = train_test_split(image_df_1, train_size=0.8, shuffle=False)"
   ]
  },
  {
   "cell_type": "markdown",
   "metadata": {},
   "source": [
    "# Loading Images"
   ]
  },
  {
   "cell_type": "code",
   "execution_count": 10,
   "metadata": {},
   "outputs": [],
   "source": [
    "train_generator = tf.keras.preprocessing.image.ImageDataGenerator(\n",
    "    rescale=1./255,\n",
    "    validation_split=0.2\n",
    ")\n",
    "\n",
    "test_generator = tf.keras.preprocessing.image.ImageDataGenerator(\n",
    "    rescale=1./255\n",
    ")"
   ]
  },
  {
   "cell_type": "code",
   "execution_count": 12,
   "metadata": {},
   "outputs": [
    {
     "name": "stdout",
     "output_type": "stream",
     "text": [
      "Found 640 validated image filenames.\n",
      "Found 160 validated image filenames.\n",
      "Found 200 validated image filenames.\n"
     ]
    }
   ],
   "source": [
    "train_images = train_generator.flow_from_dataframe(\n",
    "    dataframe=train_df,\n",
    "    x_col='img_path',\n",
    "    y_col='dist',\n",
    "    target_size=(512, 512),\n",
    "    color_mode='rgb',\n",
    "    class_mode='raw',\n",
    "    batch_size=32,\n",
    "    shuffle=True,\n",
    "    subset='training'\n",
    ")\n",
    "\n",
    "val_images = train_generator.flow_from_dataframe(\n",
    "    dataframe=train_df,\n",
    "    x_col='img_path',\n",
    "    y_col='dist',\n",
    "    target_size=(512, 512),\n",
    "    color_mode='rgb',\n",
    "    class_mode='raw',\n",
    "    batch_size=32,\n",
    "    shuffle=True,\n",
    "    subset='validation'\n",
    ")\n",
    "\n",
    "test_images = test_generator.flow_from_dataframe(\n",
    "    dataframe=test_df,\n",
    "    x_col='img_path',\n",
    "    y_col='dist',\n",
    "    target_size=(512, 512),\n",
    "    color_mode='rgb',\n",
    "    class_mode='raw',\n",
    "    batch_size=32,\n",
    "    shuffle=False\n",
    ")"
   ]
  },
  {
   "cell_type": "markdown",
   "metadata": {},
   "source": [
    "# Training"
   ]
  },
  {
   "cell_type": "code",
   "execution_count": 13,
   "metadata": {},
   "outputs": [
    {
     "name": "stderr",
     "output_type": "stream",
     "text": [
      "2022-08-03 13:12:11.619038: I tensorflow/stream_executor/cuda/cuda_gpu_executor.cc:975] successful NUMA node read from SysFS had negative value (-1), but there must be at least one NUMA node, so returning NUMA node zero\n",
      "2022-08-03 13:12:11.619239: W tensorflow/stream_executor/platform/default/dso_loader.cc:64] Could not load dynamic library 'libcudart.so.11.0'; dlerror: libcudart.so.11.0: cannot open shared object file: No such file or directory\n",
      "2022-08-03 13:12:11.619271: W tensorflow/stream_executor/platform/default/dso_loader.cc:64] Could not load dynamic library 'libcublas.so.11'; dlerror: libcublas.so.11: cannot open shared object file: No such file or directory\n",
      "2022-08-03 13:12:11.619299: W tensorflow/stream_executor/platform/default/dso_loader.cc:64] Could not load dynamic library 'libcublasLt.so.11'; dlerror: libcublasLt.so.11: cannot open shared object file: No such file or directory\n",
      "2022-08-03 13:12:11.620581: W tensorflow/stream_executor/platform/default/dso_loader.cc:64] Could not load dynamic library 'libcusolver.so.11'; dlerror: libcusolver.so.11: cannot open shared object file: No such file or directory\n",
      "2022-08-03 13:12:11.620619: W tensorflow/stream_executor/platform/default/dso_loader.cc:64] Could not load dynamic library 'libcusparse.so.11'; dlerror: libcusparse.so.11: cannot open shared object file: No such file or directory\n",
      "2022-08-03 13:12:11.620648: W tensorflow/stream_executor/platform/default/dso_loader.cc:64] Could not load dynamic library 'libcudnn.so.8'; dlerror: libcudnn.so.8: cannot open shared object file: No such file or directory\n",
      "2022-08-03 13:12:11.620656: W tensorflow/core/common_runtime/gpu/gpu_device.cc:1850] Cannot dlopen some GPU libraries. Please make sure the missing libraries mentioned above are installed properly if you would like to use GPU. Follow the guide at https://www.tensorflow.org/install/gpu for how to download and setup the required libraries for your platform.\n",
      "Skipping registering GPU devices...\n",
      "2022-08-03 13:12:11.621149: I tensorflow/core/platform/cpu_feature_guard.cc:193] This TensorFlow binary is optimized with oneAPI Deep Neural Network Library (oneDNN) to use the following CPU instructions in performance-critical operations:  AVX2 FMA\n",
      "To enable them in other operations, rebuild TensorFlow with the appropriate compiler flags.\n"
     ]
    },
    {
     "name": "stdout",
     "output_type": "stream",
     "text": [
      "Epoch 1/100\n",
      "20/20 [==============================] - 41s 2s/step - loss: 280.0924 - val_loss: 47.1703\n",
      "Epoch 2/100\n",
      "20/20 [==============================] - 40s 2s/step - loss: 46.5158 - val_loss: 32.5411\n",
      "Epoch 3/100\n",
      "20/20 [==============================] - 40s 2s/step - loss: 34.0736 - val_loss: 35.4208\n",
      "Epoch 4/100\n",
      "20/20 [==============================] - 39s 2s/step - loss: 33.8146 - val_loss: 31.6337\n",
      "Epoch 5/100\n",
      "20/20 [==============================] - 39s 2s/step - loss: 34.4504 - val_loss: 34.5110\n",
      "Epoch 6/100\n",
      "20/20 [==============================] - 39s 2s/step - loss: 34.3098 - val_loss: 37.8315\n",
      "Epoch 7/100\n",
      "20/20 [==============================] - 39s 2s/step - loss: 36.3121 - val_loss: 31.2281\n",
      "Epoch 8/100\n",
      "20/20 [==============================] - 39s 2s/step - loss: 36.1272 - val_loss: 32.3865\n",
      "Epoch 9/100\n",
      "20/20 [==============================] - 39s 2s/step - loss: 33.7381 - val_loss: 31.1683\n",
      "Epoch 10/100\n",
      "20/20 [==============================] - 39s 2s/step - loss: 34.1927 - val_loss: 44.4241\n",
      "Epoch 11/100\n",
      "20/20 [==============================] - 39s 2s/step - loss: 34.2333 - val_loss: 30.9843\n",
      "Epoch 12/100\n",
      "20/20 [==============================] - 39s 2s/step - loss: 32.8939 - val_loss: 30.7267\n",
      "Epoch 13/100\n",
      "20/20 [==============================] - 39s 2s/step - loss: 33.2719 - val_loss: 39.0413\n",
      "Epoch 14/100\n",
      "20/20 [==============================] - 39s 2s/step - loss: 33.8594 - val_loss: 33.7086\n",
      "Epoch 15/100\n",
      "20/20 [==============================] - 39s 2s/step - loss: 32.6000 - val_loss: 30.4197\n",
      "Epoch 16/100\n",
      "20/20 [==============================] - 39s 2s/step - loss: 32.5495 - val_loss: 37.5169\n",
      "Epoch 17/100\n",
      "20/20 [==============================] - 40s 2s/step - loss: 33.0652 - val_loss: 29.9523\n",
      "Epoch 18/100\n",
      "20/20 [==============================] - 40s 2s/step - loss: 32.8859 - val_loss: 36.0822\n",
      "Epoch 19/100\n",
      "20/20 [==============================] - 40s 2s/step - loss: 32.7805 - val_loss: 30.7063\n",
      "Epoch 20/100\n",
      "20/20 [==============================] - 40s 2s/step - loss: 32.9742 - val_loss: 31.1096\n",
      "Epoch 21/100\n",
      "20/20 [==============================] - 40s 2s/step - loss: 33.9524 - val_loss: 46.2213\n",
      "Epoch 22/100\n",
      "20/20 [==============================] - 40s 2s/step - loss: 36.3579 - val_loss: 29.6085\n",
      "Epoch 23/100\n",
      "20/20 [==============================] - 40s 2s/step - loss: 33.2432 - val_loss: 32.4514\n",
      "Epoch 24/100\n",
      "20/20 [==============================] - 40s 2s/step - loss: 31.7526 - val_loss: 31.2881\n",
      "Epoch 25/100\n",
      "20/20 [==============================] - 40s 2s/step - loss: 32.1874 - val_loss: 33.1717\n",
      "Epoch 26/100\n",
      "20/20 [==============================] - 40s 2s/step - loss: 31.8572 - val_loss: 31.9931\n",
      "Epoch 27/100\n",
      "20/20 [==============================] - 40s 2s/step - loss: 33.7617 - val_loss: 45.6379\n"
     ]
    }
   ],
   "source": [
    "inputs = tf.keras.Input(shape=(512, 512, 3))\n",
    "x = tf.keras.layers.Conv2D(filters=16, kernel_size=(3, 3), activation='relu')(inputs)\n",
    "x = tf.keras.layers.MaxPool2D()(x)\n",
    "x = tf.keras.layers.Conv2D(filters=32, kernel_size=(3, 3), activation='relu')(x)\n",
    "x = tf.keras.layers.MaxPool2D()(x)\n",
    "x = tf.keras.layers.Conv2D(filters=64, kernel_size=(3, 3), activation='relu')(x)\n",
    "x = tf.keras.layers.MaxPool2D()(x)\n",
    "x = tf.keras.layers.Conv2D(filters=128, kernel_size=(3, 3), activation='relu')(x)\n",
    "x = tf.keras.layers.MaxPool2D()(x)\n",
    "x = tf.keras.layers.GlobalAveragePooling2D()(x)\n",
    "x = tf.keras.layers.Dense(64, activation='relu')(x)\n",
    "x = tf.keras.layers.Dense(64, activation='relu')(x)\n",
    "outputs = tf.keras.layers.Dense(1, activation='linear')(x)\n",
    "\n",
    "model = tf.keras.Model(inputs=inputs, outputs=outputs)\n",
    "\n",
    "model.compile(\n",
    "    optimizer='adam',\n",
    "    loss=\"mse\"\n",
    ")\n",
    "\n",
    "history = model.fit(\n",
    "    train_images,\n",
    "    validation_data=val_images,\n",
    "    epochs=100,\n",
    "    callbacks=[\n",
    "        tf.keras.callbacks.EarlyStopping(\n",
    "            monitor='val_loss',\n",
    "            patience=5,\n",
    "            restore_best_weights=True\n",
    "        )\n",
    "    ]\n",
    ")"
   ]
  },
  {
   "cell_type": "markdown",
   "metadata": {},
   "source": [
    "# Results"
   ]
  },
  {
   "cell_type": "code",
   "execution_count": 16,
   "metadata": {
    "scrolled": false
   },
   "outputs": [
    {
     "name": "stdout",
     "output_type": "stream",
     "text": [
      "7/7 [==============================] - 2s 312ms/step\n",
      "     Test RMSE: 5.69711\n",
      "Test R^2 Score: -0.16677\n"
     ]
    }
   ],
   "source": [
    "predicted_dist = np.squeeze(model.predict(test_images))\n",
    "true_dist = test_images.labels\n",
    "\n",
    "rmse = np.sqrt(model.evaluate(test_images, verbose=0))\n",
    "print(\"     Test RMSE: {:.5f}\".format(rmse))\n",
    "\n",
    "r2 = r2_score(true_dist, predicted_dist)\n",
    "print(\"Test R^2 Score: {:.5f}\".format(r2))"
   ]
  },
  {
   "cell_type": "markdown",
   "metadata": {},
   "source": [
    "# Comparison"
   ]
  },
  {
   "cell_type": "code",
   "execution_count": 20,
   "metadata": {
    "scrolled": false
   },
   "outputs": [
    {
     "data": {
      "text/plain": [
       "array([[22.02230644, 15.5241747 ],\n",
       "       [21.82486343, 20.63976744],\n",
       "       [21.76651955, 25.01999201],\n",
       "       [21.72676086, 27.14774392],\n",
       "       [21.78040123, 24.12467616],\n",
       "       [21.95899963, 15.06651917],\n",
       "       [21.66426468, 26.43860813],\n",
       "       [21.77472687, 24.18677324],\n",
       "       [22.49593163,  8.83176087],\n",
       "       [21.81474113, 21.3541565 ],\n",
       "       [21.9824276 , 14.59451952],\n",
       "       [21.70908546, 13.19090596],\n",
       "       [21.74826241, 24.41311123],\n",
       "       [21.74182701, 26.41968963],\n",
       "       [21.74633217, 25.01999201],\n",
       "       [21.93522835, 16.09347694],\n",
       "       [22.02865791, 14.45683229],\n",
       "       [21.85119057, 22.91287847],\n",
       "       [21.74867058, 24.16609195],\n",
       "       [21.89743423, 19.02629759],\n",
       "       [21.85177422, 20.42057786],\n",
       "       [21.75837898, 24.10394159],\n",
       "       [21.80548668, 20.85665361],\n",
       "       [21.80816078, 23.10844002],\n",
       "       [21.99903297, 16.673332  ],\n",
       "       [21.81831169, 23.87467277],\n",
       "       [21.78380775, 21.65640783],\n",
       "       [21.77282524, 20.61552813],\n",
       "       [21.81557655, 23.08679276],\n",
       "       [21.83019066, 22.5166605 ],\n",
       "       [21.82338142, 20.04993766],\n",
       "       [21.65089226, 27.65863337],\n",
       "       [22.02249718, 15.55634919],\n",
       "       [21.77393341, 23.74868417],\n",
       "       [21.84589386, 19.94993734],\n",
       "       [22.04335976, 13.19090596],\n",
       "       [21.74904823, 25.92296279],\n",
       "       [21.86949348, 20.24845673],\n",
       "       [21.78722191, 22.64950331],\n",
       "       [21.7174015 , 27.74887385],\n",
       "       [21.79073524, 21.23676058],\n",
       "       [21.85590363, 15.93737745],\n",
       "       [21.90558243, 21.56385865],\n",
       "       [21.78646278, 19.        ],\n",
       "       [21.75303268, 27.03701167],\n",
       "       [21.71545219, 27.67670501],\n",
       "       [21.7328968 , 26.77685568],\n",
       "       [21.8261261 , 20.04993766],\n",
       "       [21.73948097, 22.58317958],\n",
       "       [21.6480484 , 25.78759392],\n",
       "       [21.74863243, 22.75961335],\n",
       "       [21.78763008, 23.19482701],\n",
       "       [21.772192  , 23.60084744],\n",
       "       [21.75792503, 26.2488095 ],\n",
       "       [21.98376274, 13.96424004],\n",
       "       [21.73597717, 27.07397274],\n",
       "       [21.92728233, 16.79285562],\n",
       "       [21.73766708, 26.2297541 ],\n",
       "       [22.2972126 , 11.5758369 ],\n",
       "       [21.81551743, 20.46948949],\n",
       "       [21.77222443, 26.34387974],\n",
       "       [21.95090294, 16.91153453],\n",
       "       [21.76740837, 22.75961335],\n",
       "       [21.85256386, 17.72004515],\n",
       "       [21.77963066, 20.14944168],\n",
       "       [21.67718697, 22.6715681 ],\n",
       "       [22.64348984,  9.53939201],\n",
       "       [21.71735191, 16.30950643],\n",
       "       [22.63689804,  8.30662386],\n",
       "       [21.79024315, 26.47640459],\n",
       "       [21.89308548, 18.86796226],\n",
       "       [21.98174477, 15.62049935],\n",
       "       [21.7636013 , 25.49509757],\n",
       "       [22.03013611, 12.72792206],\n",
       "       [21.73123741, 25.55386468],\n",
       "       [21.88538551, 19.02629759],\n",
       "       [22.06991768, 13.6381817 ],\n",
       "       [21.61478043, 13.19090596],\n",
       "       [22.07860756, 14.35270009],\n",
       "       [21.71238327, 31.20897307],\n",
       "       [21.82451248, 19.6468827 ],\n",
       "       [21.85064697, 14.2126704 ],\n",
       "       [21.70424461, 30.61045573],\n",
       "       [21.85663795, 22.89104628],\n",
       "       [21.79990005, 21.37755833],\n",
       "       [21.83679008, 20.4450483 ],\n",
       "       [21.78863716, 20.32240143],\n",
       "       [21.77979088, 24.2693222 ],\n",
       "       [21.70163155, 29.88310559],\n",
       "       [21.88622475, 18.89444363],\n",
       "       [21.786026  , 21.37755833],\n",
       "       [21.78403282, 24.18677324],\n",
       "       [22.36861992, 11.83215957],\n",
       "       [21.82774544, 19.72308292],\n",
       "       [21.74181175, 25.72936066],\n",
       "       [21.8119297 , 21.47091055],\n",
       "       [21.96798134, 16.24807681],\n",
       "       [21.77246094, 23.79075451],\n",
       "       [21.89652252, 20.92844954],\n",
       "       [21.89945221, 17.72004515],\n",
       "       [21.79701805, 23.34523506],\n",
       "       [22.21775818, 12.68857754],\n",
       "       [21.85155296, 22.02271555],\n",
       "       [21.86785507, 16.55294536],\n",
       "       [21.87060356, 19.87460691],\n",
       "       [21.802351  , 23.02172887],\n",
       "       [21.87551308, 16.61324773],\n",
       "       [21.82717323, 21.74856317],\n",
       "       [21.81265831, 14.24780685],\n",
       "       [21.76304054, 25.8069758 ],\n",
       "       [21.75642204, 20.0748599 ],\n",
       "       [22.06464195, 14.89966443],\n",
       "       [21.82901001, 21.28379665],\n",
       "       [21.8439846 , 22.44994432],\n",
       "       [21.72819328, 17.49285568],\n",
       "       [21.68061829, 19.5192213 ],\n",
       "       [21.70872688, 29.68164416],\n",
       "       [21.89887238, 16.82260384],\n",
       "       [21.7981739 , 21.56385865],\n",
       "       [22.87938881,  8.66025404],\n",
       "       [22.32530594, 12.04159458],\n",
       "       [21.73646545, 26.92582404],\n",
       "       [21.74770546, 27.58622845],\n",
       "       [21.78764534, 23.2594067 ],\n",
       "       [21.67497826, 18.49324201],\n",
       "       [21.82847977, 22.44994432],\n",
       "       [21.97753906, 16.43167673],\n",
       "       [21.79718971, 22.737634  ],\n",
       "       [21.96550179, 15.5241747 ],\n",
       "       [22.0428257 , 13.60147051],\n",
       "       [21.76632881, 26.38181192],\n",
       "       [21.86820793, 20.73644135],\n",
       "       [21.77172661, 23.60084744],\n",
       "       [21.80695152, 19.92485885],\n",
       "       [21.82819557, 19.02629759],\n",
       "       [21.83137894, 20.63976744],\n",
       "       [21.87353134, 18.13835715],\n",
       "       [21.75345802, 23.85372088],\n",
       "       [22.41234398,  9.21954446],\n",
       "       [21.84963417, 18.13835715],\n",
       "       [21.87546349, 18.86796226],\n",
       "       [21.88124657, 19.        ],\n",
       "       [21.73019409, 26.2488095 ],\n",
       "       [21.87173271, 19.79898987],\n",
       "       [21.77745628, 24.06241883],\n",
       "       [21.85620499, 20.39607805],\n",
       "       [21.75714684, 26.47640459],\n",
       "       [22.77626991,  9.69535971],\n",
       "       [21.78946495, 22.64950331],\n",
       "       [21.88716316, 16.43167673],\n",
       "       [21.67015266, 24.91987159],\n",
       "       [21.90734673, 17.23368794],\n",
       "       [21.81135178, 20.49390153],\n",
       "       [21.76852608, 23.76972865],\n",
       "       [21.83159828, 17.34935157],\n",
       "       [22.08779907, 14.07124728],\n",
       "       [21.73441315, 28.61817604],\n",
       "       [21.77565193, 22.86919325],\n",
       "       [21.75749016, 24.2899156 ],\n",
       "       [21.92625427, 17.29161647],\n",
       "       [23.33228683,  7.87400787],\n",
       "       [21.7237587 , 29.05167809],\n",
       "       [21.80764771, 19.33907961],\n",
       "       [21.78600121, 24.93992783],\n",
       "       [22.14399147,  9.94987437],\n",
       "       [21.8246479 , 18.84144368],\n",
       "       [21.74728203, 27.16615541],\n",
       "       [22.42586708,  7.87400787],\n",
       "       [21.9853363 , 15.58845727],\n",
       "       [21.85596275, 23.62202362],\n",
       "       [21.68470001, 29.68164416],\n",
       "       [21.88376808, 17.60681686],\n",
       "       [23.94074631,  4.69041576],\n",
       "       [22.07175827, 14.49137675],\n",
       "       [21.89647865, 17.60681686],\n",
       "       [21.66226006, 25.72936066],\n",
       "       [22.17140007, 13.78404875],\n",
       "       [22.36595535, 10.67707825],\n",
       "       [21.66633224, 24.81934729],\n",
       "       [21.66478157, 14.35270009],\n",
       "       [21.7078228 , 30.08321791],\n",
       "       [21.79164314, 24.73863375],\n",
       "       [21.75475311, 22.36067977],\n",
       "       [22.00480843, 13.60147051],\n",
       "       [21.89207649, 15.8113883 ],\n",
       "       [21.87523079, 18.49324201],\n",
       "       [21.82237053, 18.33030278],\n",
       "       [22.00832558, 16.30950643],\n",
       "       [21.82195091, 22.49444376],\n",
       "       [21.81132317, 22.82542442],\n",
       "       [21.7036438 , 29.68164416],\n",
       "       [21.70301628, 24.93992783],\n",
       "       [21.75584221, 25.78759392],\n",
       "       [21.87443161, 19.31320792],\n",
       "       [21.70939064, 21.77154106],\n",
       "       [21.79024315, 26.26785107],\n",
       "       [21.80869484, 18.24828759],\n",
       "       [22.66329384,  9.38083152],\n",
       "       [21.83474922, 18.62793601],\n",
       "       [21.68326759, 18.49324201]])"
      ]
     },
     "execution_count": 20,
     "metadata": {},
     "output_type": "execute_result"
    }
   ],
   "source": [
    "np.stack((predicted_dist, true_dist), axis=-1)"
   ]
  },
  {
   "cell_type": "code",
   "execution_count": 21,
   "metadata": {},
   "outputs": [
    {
     "name": "stdout",
     "output_type": "stream",
     "text": [
      "Null/Baseline Model Test RMSE: 5.27428\n"
     ]
    }
   ],
   "source": [
    "null_rmse = np.sqrt(np.sum((true_dist - np.mean(true_dist))**2) / len(true_dist))\n",
    "print(\"Null/Baseline Model Test RMSE: {:.5f}\".format(null_rmse))"
   ]
  },
  {
   "cell_type": "markdown",
   "metadata": {},
   "source": [
    "# Data Every Day  \n",
    "\n",
    "This notebook is featured on Data Every Day, a YouTube series where I train models on a new dataset each day.  \n",
    "\n",
    "***\n",
    "\n",
    "Check it out!  \n",
    "https://youtu.be/9AnCNBL8c6Q"
   ]
  }
 ],
 "metadata": {
  "kernelspec": {
   "display_name": "Python 3 (ipykernel)",
   "language": "python",
   "name": "python3"
  },
  "language_info": {
   "codemirror_mode": {
    "name": "ipython",
    "version": 3
   },
   "file_extension": ".py",
   "mimetype": "text/x-python",
   "name": "python",
   "nbconvert_exporter": "python",
   "pygments_lexer": "ipython3",
   "version": "3.8.10"
  }
 },
 "nbformat": 4,
 "nbformat_minor": 4
}
